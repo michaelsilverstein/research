{
 "cells": [
  {
   "cell_type": "markdown",
   "id": "048cce70-b13f-4396-8fc0-08ae51843396",
   "metadata": {},
   "source": [
    "# Effect of varying maintenance cost on CUE\n",
    "\n",
    "Microbes are believed to trade-off stress tolerance for biomass growth as stress increases. Here I will simulate the effect of stress on CUE using the \"maintenance\" cost incorporated into metabolic models as a proxy for stress tolerance"
   ]
  },
  {
   "cell_type": "code",
   "execution_count": 88,
   "id": "6f905ddc-12b6-4bfe-ab6d-5ad08904035e",
   "metadata": {},
   "outputs": [],
   "source": [
    "import cobra, gzip, tempfile\n",
    "import numpy as np\n",
    "import pandas as pd\n",
    "import matplotlib.pyplot as plt\n",
    "import seaborn as sns"
   ]
  },
  {
   "cell_type": "markdown",
   "id": "6d25dd58-58d6-4ed1-b75b-e95cdaaba597",
   "metadata": {},
   "source": [
    "# Function"
   ]
  },
  {
   "cell_type": "code",
   "execution_count": 99,
   "id": "cd94d64c-ebb4-431d-8bb2-f2642dad63fd",
   "metadata": {},
   "outputs": [],
   "source": [
    "def read_gzip_smbl(filename):\n",
    "    \"\"\"\n",
    "    Read a gzipped SMBL metabolic model\n",
    "    \"\"\"\n",
    "    with gzip.open(filename) as fh:\n",
    "        with tempfile.NamedTemporaryFile() as tf:\n",
    "            tf.write(fh.read())\n",
    "            model = cobra.io.read_sbml_model(tf.name)\n",
    "    return model\n",
    "\n",
    "def compute_cue(model):\n",
    "    \"\"\"\n",
    "    Compute CUE using (uptake + secretion) / uptake definition\n",
    "    https://github.com/michaelsilverstein/bf571_cue/blob/main/cue_tools.py#L169\n",
    "    \"\"\"\n",
    "    # Get summary\n",
    "    summary = model.summary()\n",
    "    # Extract uptake and secrtion fluxes\n",
    "    uptake  = summary._display_flux(summary.uptake_flux, True, 'C', 0)\n",
    "    secretion = summary._display_flux(summary.secretion_flux, True, 'C', 0)\n",
    "    # Get flux of C molecules\n",
    "    uptake_c = (uptake.flux * uptake['C-Number']).sum()\n",
    "    secretion_c = (secretion.flux * secretion['C-Number']).sum()\n",
    "    # Compute CUE\n",
    "    CUE = (uptake_c + secretion_c) / uptake_c\n",
    "    return CUE"
   ]
  },
  {
   "cell_type": "markdown",
   "id": "9081bd37-80e9-45fa-a832-cae0bf6c3017",
   "metadata": {},
   "source": [
    "# Load "
   ]
  },
  {
   "cell_type": "code",
   "execution_count": 27,
   "id": "45174c3c-1ebb-4072-b7d4-8d196bbd26ba",
   "metadata": {},
   "outputs": [
    {
     "data": {
      "text/html": [
       "\n",
       "        <table>\n",
       "            <tr>\n",
       "                <td><strong>Name</strong></td>\n",
       "                <td>iJO1366</td>\n",
       "            </tr><tr>\n",
       "                <td><strong>Memory address</strong></td>\n",
       "                <td>0x02ac334ecb850</td>\n",
       "            </tr><tr>\n",
       "                <td><strong>Number of metabolites</strong></td>\n",
       "                <td>1805</td>\n",
       "            </tr><tr>\n",
       "                <td><strong>Number of reactions</strong></td>\n",
       "                <td>2583</td>\n",
       "            </tr><tr>\n",
       "                <td><strong>Number of groups</strong></td>\n",
       "                <td>0</td>\n",
       "            </tr><tr>\n",
       "                <td><strong>Objective expression</strong></td>\n",
       "                <td>1.0*BIOMASS_Ec_iJO1366_core_53p95M - 1.0*BIOMASS_Ec_iJO1366_core_53p95M_reverse_5c8b1</td>\n",
       "            </tr><tr>\n",
       "                <td><strong>Compartments</strong></td>\n",
       "                <td>cytosol, extracellular space, periplasm</td>\n",
       "            </tr>\n",
       "          </table>"
      ],
      "text/plain": [
       "<Model iJO1366 at 0x2ac334ecb850>"
      ]
     },
     "execution_count": 27,
     "metadata": {},
     "output_type": "execute_result"
    }
   ],
   "source": [
    "\"\"\"Load model\"\"\"\n",
    "model = read_gzip_smbl('../bigg_models/iJO1366.xml.gz')\n",
    "model"
   ]
  },
  {
   "cell_type": "markdown",
   "id": "cc347b74-1590-48b3-82f3-a90f382dd134",
   "metadata": {},
   "source": [
    "# Varying ATP maintanenance cost"
   ]
  },
  {
   "cell_type": "code",
   "execution_count": 124,
   "id": "c32d276b-aeeb-40e3-85d0-e04e6ac5267c",
   "metadata": {},
   "outputs": [
    {
     "data": {
      "text/html": [
       "<div>\n",
       "<style scoped>\n",
       "    .dataframe tbody tr th:only-of-type {\n",
       "        vertical-align: middle;\n",
       "    }\n",
       "\n",
       "    .dataframe tbody tr th {\n",
       "        vertical-align: top;\n",
       "    }\n",
       "\n",
       "    .dataframe thead th {\n",
       "        text-align: right;\n",
       "    }\n",
       "</style>\n",
       "<table border=\"1\" class=\"dataframe\">\n",
       "  <thead>\n",
       "    <tr style=\"text-align: right;\">\n",
       "      <th></th>\n",
       "      <th>cost</th>\n",
       "      <th>cue</th>\n",
       "    </tr>\n",
       "  </thead>\n",
       "  <tbody>\n",
       "    <tr>\n",
       "      <th>0</th>\n",
       "      <td>3.150000</td>\n",
       "      <td>0.671998</td>\n",
       "    </tr>\n",
       "    <tr>\n",
       "      <th>1</th>\n",
       "      <td>12.810417</td>\n",
       "      <td>0.644590</td>\n",
       "    </tr>\n",
       "    <tr>\n",
       "      <th>2</th>\n",
       "      <td>22.470833</td>\n",
       "      <td>0.617181</td>\n",
       "    </tr>\n",
       "    <tr>\n",
       "      <th>3</th>\n",
       "      <td>32.131250</td>\n",
       "      <td>0.589772</td>\n",
       "    </tr>\n",
       "    <tr>\n",
       "      <th>4</th>\n",
       "      <td>41.791667</td>\n",
       "      <td>0.562363</td>\n",
       "    </tr>\n",
       "  </tbody>\n",
       "</table>\n",
       "</div>"
      ],
      "text/plain": [
       "        cost       cue\n",
       "0   3.150000  0.671998\n",
       "1  12.810417  0.644590\n",
       "2  22.470833  0.617181\n",
       "3  32.131250  0.589772\n",
       "4  41.791667  0.562363"
      ]
     },
     "execution_count": 124,
     "metadata": {},
     "output_type": "execute_result"
    }
   ],
   "source": [
    "\"\"\"Range of ATP maintanenance costs\"\"\"\n",
    "atpms = np.linspace(*cobra.flux_analysis.flux_variability_analysis(model, ['ATPM'], fraction_of_optimum=0).squeeze(), 25)\n",
    "\n",
    "\"\"\"Compute CUE for range of costs\"\"\"\n",
    "CUEs = []\n",
    "for cost in atpms:\n",
    "    with model as m:\n",
    "        m.reactions.ATPM.bounds = cost, 1000\n",
    "        CUE = compute_cue(m)\n",
    "        CUEs.append(CUE)\n",
    "cue_df = pd.DataFrame([{'cost': cost, 'cue': cue} for cost, cue in zip(atpms, CUEs)])\n",
    "cue_df.head()"
   ]
  },
  {
   "cell_type": "code",
   "execution_count": 129,
   "id": "84d3cc7a-faf9-4ba1-a92f-746f7be05e0f",
   "metadata": {},
   "outputs": [
    {
     "data": {
      "image/png": "[encoded data removed]",
      "text/plain": [
       "<Figure size 432x288 with 1 Axes>"
      ]
     },
     "metadata": {},
     "output_type": "display_data"
    }
   ],
   "source": [
    "plt.figure(facecolor='w')\n",
    "sns.lineplot(x='cost', y='cue', data=cue_df, marker='o')\n",
    "\n",
    "plt.show()"
   ]
  }
 ],
 "metadata": {
  "kernelspec": {
   "display_name": "msilver",
   "language": "python",
   "name": "msilver"
  },
  "language_info": {
   "codemirror_mode": {
    "name": "ipython",
    "version": 3
   },
   "file_extension": ".py",
   "mimetype": "text/x-python",
   "name": "python",
   "nbconvert_exporter": "python",
   "pygments_lexer": "ipython3",
   "version": "3.8.5"
  }
 },
 "nbformat": 4,
 "nbformat_minor": 5
}
